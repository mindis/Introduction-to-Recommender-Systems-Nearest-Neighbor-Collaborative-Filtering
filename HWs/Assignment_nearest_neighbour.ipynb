{
 "cells": [
  {
   "cell_type": "code",
   "execution_count": 1,
   "metadata": {},
   "outputs": [
    {
     "name": "stderr",
     "output_type": "stream",
     "text": [
      "/home/mawdoo3/anaconda3/lib/python3.7/importlib/_bootstrap.py:219: RuntimeWarning: numpy.ufunc size changed, may indicate binary incompatibility. Expected 192 from C header, got 216 from PyObject\n",
      "  return f(*args, **kwds)\n",
      "/home/mawdoo3/anaconda3/lib/python3.7/importlib/_bootstrap.py:219: RuntimeWarning: numpy.ufunc size changed, may indicate binary incompatibility. Expected 192 from C header, got 216 from PyObject\n",
      "  return f(*args, **kwds)\n"
     ]
    }
   ],
   "source": [
    "import pandas as pd\n",
    "import numpy as np"
   ]
  },
  {
   "cell_type": "code",
   "execution_count": 16,
   "metadata": {},
   "outputs": [
    {
     "data": {
      "text/html": [
       "<div>\n",
       "<style scoped>\n",
       "    .dataframe tbody tr th:only-of-type {\n",
       "        vertical-align: middle;\n",
       "    }\n",
       "\n",
       "    .dataframe tbody tr th {\n",
       "        vertical-align: top;\n",
       "    }\n",
       "\n",
       "    .dataframe thead th {\n",
       "        text-align: right;\n",
       "    }\n",
       "</style>\n",
       "<table border=\"1\" class=\"dataframe\">\n",
       "  <thead>\n",
       "    <tr style=\"text-align: right;\">\n",
       "      <th></th>\n",
       "      <th>1648</th>\n",
       "      <th>5136</th>\n",
       "      <th>918</th>\n",
       "      <th>2824</th>\n",
       "      <th>3867</th>\n",
       "      <th>860</th>\n",
       "      <th>3712</th>\n",
       "      <th>2968</th>\n",
       "      <th>3525</th>\n",
       "      <th>4323</th>\n",
       "      <th>...</th>\n",
       "      <th>3556</th>\n",
       "      <th>5261</th>\n",
       "      <th>2492</th>\n",
       "      <th>5062</th>\n",
       "      <th>2486</th>\n",
       "      <th>4942</th>\n",
       "      <th>2267</th>\n",
       "      <th>4809</th>\n",
       "      <th>3853</th>\n",
       "      <th>2288</th>\n",
       "    </tr>\n",
       "  </thead>\n",
       "  <tbody>\n",
       "    <tr>\n",
       "      <th>11: Star Wars: Episode IV - A New Hope (1977)</th>\n",
       "      <td>NaN</td>\n",
       "      <td>4.5</td>\n",
       "      <td>5.0</td>\n",
       "      <td>4.5</td>\n",
       "      <td>4.0</td>\n",
       "      <td>4.0</td>\n",
       "      <td>NaN</td>\n",
       "      <td>5.0</td>\n",
       "      <td>4.0</td>\n",
       "      <td>5.0</td>\n",
       "      <td>...</td>\n",
       "      <td>4.0</td>\n",
       "      <td>NaN</td>\n",
       "      <td>4.5</td>\n",
       "      <td>4.0</td>\n",
       "      <td>3.5</td>\n",
       "      <td>NaN</td>\n",
       "      <td>NaN</td>\n",
       "      <td>NaN</td>\n",
       "      <td>NaN</td>\n",
       "      <td>NaN</td>\n",
       "    </tr>\n",
       "    <tr>\n",
       "      <th>12: Finding Nemo (2003)</th>\n",
       "      <td>NaN</td>\n",
       "      <td>5.0</td>\n",
       "      <td>5.0</td>\n",
       "      <td>NaN</td>\n",
       "      <td>4.0</td>\n",
       "      <td>4.0</td>\n",
       "      <td>4.5</td>\n",
       "      <td>4.5</td>\n",
       "      <td>4.0</td>\n",
       "      <td>5.0</td>\n",
       "      <td>...</td>\n",
       "      <td>4.0</td>\n",
       "      <td>NaN</td>\n",
       "      <td>3.5</td>\n",
       "      <td>4.0</td>\n",
       "      <td>2.0</td>\n",
       "      <td>3.5</td>\n",
       "      <td>NaN</td>\n",
       "      <td>NaN</td>\n",
       "      <td>NaN</td>\n",
       "      <td>3.5</td>\n",
       "    </tr>\n",
       "    <tr>\n",
       "      <th>13: Forrest Gump (1994)</th>\n",
       "      <td>NaN</td>\n",
       "      <td>5.0</td>\n",
       "      <td>4.5</td>\n",
       "      <td>5.0</td>\n",
       "      <td>4.5</td>\n",
       "      <td>4.5</td>\n",
       "      <td>NaN</td>\n",
       "      <td>5.0</td>\n",
       "      <td>4.5</td>\n",
       "      <td>5.0</td>\n",
       "      <td>...</td>\n",
       "      <td>4.0</td>\n",
       "      <td>5.0</td>\n",
       "      <td>3.5</td>\n",
       "      <td>4.5</td>\n",
       "      <td>4.5</td>\n",
       "      <td>4.0</td>\n",
       "      <td>3.5</td>\n",
       "      <td>4.5</td>\n",
       "      <td>3.5</td>\n",
       "      <td>3.5</td>\n",
       "    </tr>\n",
       "    <tr>\n",
       "      <th>14: American Beauty (1999)</th>\n",
       "      <td>NaN</td>\n",
       "      <td>4.0</td>\n",
       "      <td>NaN</td>\n",
       "      <td>NaN</td>\n",
       "      <td>NaN</td>\n",
       "      <td>NaN</td>\n",
       "      <td>4.5</td>\n",
       "      <td>2.0</td>\n",
       "      <td>3.5</td>\n",
       "      <td>5.0</td>\n",
       "      <td>...</td>\n",
       "      <td>4.0</td>\n",
       "      <td>NaN</td>\n",
       "      <td>3.5</td>\n",
       "      <td>4.5</td>\n",
       "      <td>3.5</td>\n",
       "      <td>4.0</td>\n",
       "      <td>NaN</td>\n",
       "      <td>3.5</td>\n",
       "      <td>NaN</td>\n",
       "      <td>NaN</td>\n",
       "    </tr>\n",
       "    <tr>\n",
       "      <th>22: Pirates of the Caribbean: The Curse of the Black Pearl (2003)</th>\n",
       "      <td>4.0</td>\n",
       "      <td>5.0</td>\n",
       "      <td>3.0</td>\n",
       "      <td>4.5</td>\n",
       "      <td>4.0</td>\n",
       "      <td>2.5</td>\n",
       "      <td>NaN</td>\n",
       "      <td>5.0</td>\n",
       "      <td>3.0</td>\n",
       "      <td>4.0</td>\n",
       "      <td>...</td>\n",
       "      <td>3.0</td>\n",
       "      <td>1.5</td>\n",
       "      <td>4.0</td>\n",
       "      <td>4.0</td>\n",
       "      <td>2.5</td>\n",
       "      <td>3.5</td>\n",
       "      <td>NaN</td>\n",
       "      <td>5.0</td>\n",
       "      <td>NaN</td>\n",
       "      <td>3.5</td>\n",
       "    </tr>\n",
       "  </tbody>\n",
       "</table>\n",
       "<p>5 rows × 25 columns</p>\n",
       "</div>"
      ],
      "text/plain": [
       "                                                    1648  5136  918   2824  \\\n",
       "11: Star Wars: Episode IV - A New Hope (1977)        NaN   4.5   5.0   4.5   \n",
       "12: Finding Nemo (2003)                              NaN   5.0   5.0   NaN   \n",
       "13: Forrest Gump (1994)                              NaN   5.0   4.5   5.0   \n",
       "14: American Beauty (1999)                           NaN   4.0   NaN   NaN   \n",
       "22: Pirates of the Caribbean: The Curse of the ...   4.0   5.0   3.0   4.5   \n",
       "\n",
       "                                                    3867  860   3712  2968  \\\n",
       "11: Star Wars: Episode IV - A New Hope (1977)        4.0   4.0   NaN   5.0   \n",
       "12: Finding Nemo (2003)                              4.0   4.0   4.5   4.5   \n",
       "13: Forrest Gump (1994)                              4.5   4.5   NaN   5.0   \n",
       "14: American Beauty (1999)                           NaN   NaN   4.5   2.0   \n",
       "22: Pirates of the Caribbean: The Curse of the ...   4.0   2.5   NaN   5.0   \n",
       "\n",
       "                                                    3525  4323  ...  3556  \\\n",
       "11: Star Wars: Episode IV - A New Hope (1977)        4.0   5.0  ...   4.0   \n",
       "12: Finding Nemo (2003)                              4.0   5.0  ...   4.0   \n",
       "13: Forrest Gump (1994)                              4.5   5.0  ...   4.0   \n",
       "14: American Beauty (1999)                           3.5   5.0  ...   4.0   \n",
       "22: Pirates of the Caribbean: The Curse of the ...   3.0   4.0  ...   3.0   \n",
       "\n",
       "                                                    5261  2492  5062  2486  \\\n",
       "11: Star Wars: Episode IV - A New Hope (1977)        NaN   4.5   4.0   3.5   \n",
       "12: Finding Nemo (2003)                              NaN   3.5   4.0   2.0   \n",
       "13: Forrest Gump (1994)                              5.0   3.5   4.5   4.5   \n",
       "14: American Beauty (1999)                           NaN   3.5   4.5   3.5   \n",
       "22: Pirates of the Caribbean: The Curse of the ...   1.5   4.0   4.0   2.5   \n",
       "\n",
       "                                                    4942  2267  4809  3853  \\\n",
       "11: Star Wars: Episode IV - A New Hope (1977)        NaN   NaN   NaN   NaN   \n",
       "12: Finding Nemo (2003)                              3.5   NaN   NaN   NaN   \n",
       "13: Forrest Gump (1994)                              4.0   3.5   4.5   3.5   \n",
       "14: American Beauty (1999)                           4.0   NaN   3.5   NaN   \n",
       "22: Pirates of the Caribbean: The Curse of the ...   3.5   NaN   5.0   NaN   \n",
       "\n",
       "                                                    2288  \n",
       "11: Star Wars: Episode IV - A New Hope (1977)        NaN  \n",
       "12: Finding Nemo (2003)                              3.5  \n",
       "13: Forrest Gump (1994)                              3.5  \n",
       "14: American Beauty (1999)                           NaN  \n",
       "22: Pirates of the Caribbean: The Curse of the ...   3.5  \n",
       "\n",
       "[5 rows x 25 columns]"
      ]
     },
     "execution_count": 16,
     "metadata": {},
     "output_type": "execute_result"
    }
   ],
   "source": [
    "data = pd.read_excel('Assignment_nearest neighbour.xlsx', index_col=0)\n",
    "data.head()"
   ]
  },
  {
   "cell_type": "code",
   "execution_count": 17,
   "metadata": {},
   "outputs": [],
   "source": [
    "uu_sim = data.corr()"
   ]
  },
  {
   "cell_type": "code",
   "execution_count": 18,
   "metadata": {},
   "outputs": [],
   "source": [
    "def get_top_users(uu_sim, target, n=5):\n",
    "    target_corr = uu_sim.loc[target]\n",
    "    top_neighbours = target_corr.nlargest(n+1).iloc[1:]\n",
    "    return top_neighbours"
   ]
  },
  {
   "cell_type": "code",
   "execution_count": 19,
   "metadata": {},
   "outputs": [],
   "source": [
    "def get_user_movie_score(movie, user):\n",
    "    top_neighbours = get_top_users(uu_sim, user)\n",
    "    ratings_sum = 0\n",
    "    weight_sum = 0\n",
    "    for user, w in zip(top_neighbours.index, top_neighbours.values):\n",
    "        if np.isnan(movie[user]): \n",
    "            continue\n",
    "        ratings_sum += movie[user] * w\n",
    "        weight_sum += w\n",
    "    if weight_sum == 0:\n",
    "        return 0\n",
    "    return ratings_sum/ weight_sum\n",
    "        "
   ]
  },
  {
   "cell_type": "code",
   "execution_count": 20,
   "metadata": {},
   "outputs": [
    {
     "data": {
      "text/plain": [
       "641: Requiem for a Dream (2000)    5.000000\n",
       "603: The Matrix (1999)             4.855924\n",
       "105: Back to the Future (1985)     4.739173\n",
       "dtype: float64"
      ]
     },
     "execution_count": 20,
     "metadata": {},
     "output_type": "execute_result"
    }
   ],
   "source": [
    "pred_3712 = data.apply(get_user_movie_score,axis=1,args=(3712,))\n",
    "pred_3712.sort_values(ascending=False)[:3]"
   ]
  },
  {
   "cell_type": "code",
   "execution_count": 21,
   "metadata": {},
   "outputs": [],
   "source": [
    "pred_3867 = data.apply(get_user_movie_score,axis=1,args=(3867,))\n",
    "pred_89 = data.apply(get_user_movie_score,axis=1,args=(89,))"
   ]
  },
  {
   "cell_type": "code",
   "execution_count": 22,
   "metadata": {},
   "outputs": [
    {
     "data": {
      "text/plain": [
       "1891: Star Wars: Episode V - The Empire Strikes Back (1980)    4.760291\n",
       "155: The Dark Knight (2008)                                    4.551454\n",
       "122: The Lord of the Rings: The Return of the King (2003)      4.507637\n",
       "dtype: float64"
      ]
     },
     "execution_count": 22,
     "metadata": {},
     "output_type": "execute_result"
    }
   ],
   "source": [
    "pred_3867.sort_values(ascending=False)[:3]"
   ]
  },
  {
   "cell_type": "code",
   "execution_count": 23,
   "metadata": {},
   "outputs": [
    {
     "data": {
      "text/plain": [
       "238: The Godfather (1972)               4.894124\n",
       "278: The Shawshank Redemption (1994)    4.882194\n",
       "807: Seven (a.k.a. Se7en) (1995)        4.774093\n",
       "dtype: float64"
      ]
     },
     "execution_count": 23,
     "metadata": {},
     "output_type": "execute_result"
    }
   ],
   "source": [
    "pred_89.sort_values(ascending=False)[:3]"
   ]
  },
  {
   "cell_type": "markdown",
   "metadata": {},
   "source": [
    "normalization"
   ]
  },
  {
   "cell_type": "code",
   "execution_count": 27,
   "metadata": {},
   "outputs": [],
   "source": [
    "def get_user_movie_score_normalized(movie, user):\n",
    "    top_neighbours = get_top_users(uu_sim, user)\n",
    "    ratings_sum = 0\n",
    "    weight_sum = 0\n",
    "    user_rating_mean = data.loc[:,user].mean()\n",
    "    for user, w in zip(top_neighbours.index, top_neighbours.values):\n",
    "        if np.isnan(movie[user]): \n",
    "            continue\n",
    "        movie_user_mean = data.loc[:,user].mean()\n",
    "        ratings_sum += (movie[user]-movie_user_mean) * w\n",
    "        weight_sum += w\n",
    "    if weight_sum == 0:\n",
    "        return 0\n",
    "    return user_rating_mean + ratings_sum/ weight_sum"
   ]
  },
  {
   "cell_type": "code",
   "execution_count": 28,
   "metadata": {},
   "outputs": [],
   "source": [
    "norm_pred_3867 = data.apply(get_user_movie_score_normalized,axis=1,args=(3867,))\n",
    "norm_pred_89 = data.apply(get_user_movie_score_normalized,axis=1,args=(89,))"
   ]
  },
  {
   "cell_type": "code",
   "execution_count": 29,
   "metadata": {},
   "outputs": [
    {
     "data": {
      "text/plain": [
       "1891: Star Wars: Episode V - The Empire Strikes Back (1980)    5.245509\n",
       "155: The Dark Knight (2008)                                    4.856770\n",
       "77: Memento (2000)                                             4.777803\n",
       "dtype: float64"
      ]
     },
     "execution_count": 29,
     "metadata": {},
     "output_type": "execute_result"
    }
   ],
   "source": [
    "norm_pred_3867.sort_values(ascending=False)[:3]"
   ]
  },
  {
   "cell_type": "code",
   "execution_count": 30,
   "metadata": {},
   "outputs": [
    {
     "data": {
      "text/plain": [
       "238: The Godfather (1972)               5.322015\n",
       "278: The Shawshank Redemption (1994)    5.261424\n",
       "275: Fargo (1996)                       5.241111\n",
       "dtype: float64"
      ]
     },
     "execution_count": 30,
     "metadata": {},
     "output_type": "execute_result"
    }
   ],
   "source": [
    "norm_pred_89.sort_values(ascending=False)[:3]"
   ]
  },
  {
   "cell_type": "code",
   "execution_count": 31,
   "metadata": {},
   "outputs": [
    {
     "data": {
      "text/plain": [
       "641: Requiem for a Dream (2000)    5.900000\n",
       "603: The Matrix (1999)             5.545567\n",
       "105: Back to the Future (1985)     5.500585\n",
       "dtype: float64"
      ]
     },
     "execution_count": 31,
     "metadata": {},
     "output_type": "execute_result"
    }
   ],
   "source": [
    "norm_pred_3712 = data.apply(get_user_movie_score_normalized,axis=1,args=(3712,))\n",
    "norm_pred_3712.sort_values(ascending=False)[:3]"
   ]
  }
 ],
 "metadata": {
  "kernelspec": {
   "display_name": "Python 3",
   "language": "python",
   "name": "python3"
  },
  "language_info": {
   "codemirror_mode": {
    "name": "ipython",
    "version": 3
   },
   "file_extension": ".py",
   "mimetype": "text/x-python",
   "name": "python",
   "nbconvert_exporter": "python",
   "pygments_lexer": "ipython3",
   "version": "3.7.3"
  }
 },
 "nbformat": 4,
 "nbformat_minor": 2
}
